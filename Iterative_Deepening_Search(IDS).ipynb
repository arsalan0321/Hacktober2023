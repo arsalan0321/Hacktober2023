{
 "cells": [
  {
   "cell_type": "markdown",
   "id": "9bc2c885",
   "metadata": {},
   "source": [
    "## Iterative Deepening Search (IDS)"
   ]
  },
  {
   "cell_type": "code",
   "execution_count": 1,
   "id": "76d2e99e",
   "metadata": {},
   "outputs": [
    {
     "name": "stdout",
     "output_type": "stream",
     "text": [
      "Iterative Deepening Search: Path found: ['A', 'B', 'D', 'G']\n"
     ]
    }
   ],
   "source": [
    "def depth_limited_search(graph, node, goal, depth_limit):\n",
    "    if node == goal:\n",
    "        return [node]\n",
    "\n",
    "    if depth_limit == 0:\n",
    "        return []\n",
    "\n",
    "    if depth_limit > 0:\n",
    "        for neighbor in graph.get(node, []):\n",
    "            path = depth_limited_search(graph, neighbor, goal, depth_limit - 1)\n",
    "            if path:\n",
    "                return [node] + path\n",
    "\n",
    "    return []\n",
    "\n",
    "def iterative_deepening_search(graph, start, goal):\n",
    "    depth_limit = 0\n",
    "\n",
    "    while True:\n",
    "        result = depth_limited_search(graph, start, goal, depth_limit)\n",
    "        if result:\n",
    "            return result\n",
    "        depth_limit += 1\n",
    "\n",
    "    return None  # Return None if the goal is not reachable\n",
    "\n",
    "# Define a sample graph as an adjacency list\n",
    "graph = {\n",
    "    'A': ['B', 'C'],\n",
    "    'B': ['D', 'E'],\n",
    "    'C': ['F'],\n",
    "    'D': ['G'],\n",
    "    'E': ['G'],\n",
    "    'F': ['G'],\n",
    "    'G': []\n",
    "}\n",
    "\n",
    "start_node = 'A'\n",
    "goal_node = 'G'\n",
    "\n",
    "path = iterative_deepening_search(graph, start_node, goal_node)\n",
    "if path is not None:\n",
    "    print(\"Iterative Deepening Search: Path found:\", path)\n",
    "else:\n",
    "    print(\"Iterative Deepening Search: Goal node not reachable.\")\n"
   ]
  },
  {
   "cell_type": "code",
   "execution_count": null,
   "id": "64666951",
   "metadata": {},
   "outputs": [],
   "source": []
  }
 ],
 "metadata": {
  "kernelspec": {
   "display_name": "Python 3 (ipykernel)",
   "language": "python",
   "name": "python3"
  },
  "language_info": {
   "codemirror_mode": {
    "name": "ipython",
    "version": 3
   },
   "file_extension": ".py",
   "mimetype": "text/x-python",
   "name": "python",
   "nbconvert_exporter": "python",
   "pygments_lexer": "ipython3",
   "version": "3.11.5"
  }
 },
 "nbformat": 4,
 "nbformat_minor": 5
}
